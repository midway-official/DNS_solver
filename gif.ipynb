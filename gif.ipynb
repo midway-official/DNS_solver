{
 "cells": [
  {
   "cell_type": "code",
   "execution_count": 2,
   "metadata": {},
   "outputs": [
    {
     "name": "stdout",
     "output_type": "stream",
     "text": [
      "['./result/0', './result/1', './result/2', './result/3', './result/4', './result/5', './result/6', './result/7', './result/8', './result/9', './result/10', './result/11', './result/12', './result/13', './result/14', './result/15', './result/16', './result/17', './result/18', './result/19', './result/20', './result/21', './result/22', './result/23', './result/24', './result/25', './result/26', './result/27', './result/28', './result/29', './result/30', './result/31', './result/32', './result/33', './result/34', './result/35', './result/36', './result/37', './result/38', './result/39', './result/40', './result/41', './result/42', './result/43', './result/44', './result/45', './result/46', './result/47', './result/48', './result/49', './result/50', './result/51', './result/52', './result/53', './result/54', './result/55', './result/56', './result/57', './result/58', './result/59', './result/60', './result/61', './result/62', './result/63', './result/64', './result/65', './result/66', './result/67', './result/68', './result/69', './result/70', './result/71', './result/72', './result/73', './result/74', './result/75', './result/76', './result/77', './result/78', './result/79', './result/80', './result/81', './result/82', './result/83', './result/84', './result/85', './result/86', './result/87', './result/88', './result/89', './result/90', './result/91', './result/92', './result/93', './result/94', './result/95', './result/96', './result/97', './result/98', './result/99', './result/100', './result/101', './result/102', './result/103', './result/104', './result/105', './result/106', './result/107', './result/108', './result/109', './result/110', './result/111', './result/112', './result/113', './result/114', './result/115', './result/116', './result/117', './result/118', './result/119', './result/120', './result/121', './result/122', './result/123', './result/124', './result/125', './result/126', './result/127', './result/128', './result/129', './result/130', './result/131', './result/132', './result/133', './result/134', './result/135', './result/136', './result/137', './result/138', './result/139', './result/140', './result/141', './result/142', './result/143', './result/144', './result/145', './result/146', './result/147', './result/148', './result/149', './result/150', './result/151', './result/152', './result/153', './result/154', './result/155', './result/156', './result/157', './result/158', './result/159', './result/160', './result/161', './result/162', './result/163', './result/164', './result/165', './result/166', './result/167', './result/168', './result/169', './result/170', './result/171', './result/172', './result/173', './result/174', './result/175', './result/176', './result/177', './result/178', './result/179', './result/180', './result/181', './result/182', './result/183', './result/184', './result/185', './result/186', './result/187', './result/188', './result/189', './result/190', './result/191', './result/192', './result/193', './result/194', './result/195', './result/196', './result/197', './result/198', './result/199', './result/200', './result/201', './result/202', './result/203', './result/204', './result/205', './result/206', './result/207', './result/208', './result/209', './result/210', './result/211', './result/212', './result/213', './result/214', './result/215', './result/216', './result/217', './result/218', './result/219', './result/220', './result/221', './result/222', './result/223', './result/224', './result/225', './result/226', './result/227', './result/228', './result/229', './result/230', './result/231', './result/232', './result/233', './result/234', './result/235', './result/236', './result/237', './result/238', './result/239', './result/240', './result/241', './result/242', './result/243', './result/244', './result/245', './result/246', './result/247', './result/248', './result/249', './result/250', './result/251', './result/252', './result/253', './result/254', './result/255', './result/256', './result/257', './result/258', './result/259', './result/260', './result/261', './result/262', './result/263', './result/264', './result/265', './result/266', './result/267', './result/268', './result/269', './result/270', './result/271', './result/272', './result/273', './result/274', './result/275', './result/276', './result/277', './result/278', './result/279', './result/280', './result/281', './result/282', './result/283', './result/284', './result/285', './result/286', './result/287', './result/288', './result/289', './result/290', './result/291', './result/292', './result/293', './result/294', './result/295', './result/296', './result/297', './result/298', './result/299', './result/300', './result/301', './result/302', './result/303', './result/304', './result/305', './result/306', './result/307', './result/308', './result/309', './result/310', './result/311', './result/312', './result/313', './result/314', './result/315', './result/316', './result/317', './result/318', './result/319', './result/320', './result/321', './result/322', './result/323', './result/324', './result/325', './result/326', './result/327', './result/328', './result/329', './result/330', './result/331', './result/332', './result/333', './result/334', './result/335', './result/336', './result/337', './result/338', './result/339', './result/340', './result/341', './result/342', './result/343', './result/344', './result/345', './result/346', './result/347', './result/348', './result/349', './result/350', './result/351', './result/352', './result/353', './result/354', './result/355', './result/356', './result/357', './result/358', './result/359', './result/360', './result/361', './result/362', './result/363', './result/364', './result/365', './result/366', './result/367', './result/368', './result/369', './result/370', './result/371', './result/372', './result/373', './result/374', './result/375', './result/376', './result/377', './result/378', './result/379', './result/380', './result/381', './result/382', './result/383', './result/384', './result/385', './result/386', './result/387', './result/388', './result/389', './result/390', './result/391', './result/392', './result/393', './result/394', './result/395', './result/396', './result/397', './result/398', './result/399', './result/400', './result/401', './result/402', './result/403', './result/404', './result/405', './result/406', './result/407', './result/408', './result/409', './result/410', './result/411', './result/412', './result/413', './result/414', './result/415', './result/416', './result/417', './result/418', './result/419', './result/420', './result/421', './result/422', './result/423', './result/424', './result/425', './result/426', './result/427', './result/428', './result/429', './result/430', './result/431', './result/432', './result/433', './result/434', './result/435', './result/436', './result/437', './result/438', './result/439', './result/440', './result/441', './result/442', './result/443', './result/444', './result/445', './result/446', './result/447', './result/448', './result/449', './result/450', './result/451', './result/452', './result/453', './result/454', './result/455', './result/456', './result/457', './result/458', './result/459', './result/460', './result/461', './result/462', './result/463', './result/464', './result/465', './result/466', './result/467', './result/468', './result/469', './result/470', './result/471', './result/472', './result/473', './result/474', './result/475', './result/476', './result/477', './result/478', './result/479', './result/480', './result/481', './result/482', './result/483', './result/484', './result/485', './result/486', './result/487', './result/488', './result/489', './result/490', './result/491', './result/492', './result/493', './result/494', './result/495', './result/496', './result/497', './result/498', './result/499', './result/500', './result/501', './result/502', './result/503', './result/504', './result/505', './result/506', './result/507', './result/508', './result/509', './result/510', './result/511', './result/512', './result/513', './result/514', './result/515', './result/516', './result/517', './result/518', './result/519', './result/520', './result/521', './result/522', './result/523', './result/524', './result/525', './result/526', './result/527', './result/528', './result/529', './result/530', './result/531', './result/532', './result/533', './result/534', './result/535', './result/536', './result/537', './result/538', './result/539', './result/540', './result/541', './result/542', './result/543', './result/544', './result/545', './result/546', './result/547', './result/548', './result/549', './result/550', './result/551', './result/552', './result/553', './result/554', './result/555', './result/556', './result/557', './result/558', './result/559', './result/560', './result/561', './result/562', './result/563', './result/564', './result/565', './result/566', './result/567', './result/568', './result/569', './result/570', './result/571', './result/572', './result/573', './result/574', './result/575', './result/576', './result/577', './result/578', './result/579', './result/580', './result/581', './result/582', './result/583', './result/584', './result/585', './result/586', './result/587', './result/588', './result/589', './result/590', './result/591', './result/592', './result/593', './result/594', './result/595', './result/596', './result/597', './result/598', './result/599', './result/600', './result/601', './result/602', './result/603', './result/604', './result/605', './result/606', './result/607', './result/608', './result/609', './result/610', './result/611', './result/612', './result/613', './result/614', './result/615', './result/616', './result/617', './result/618', './result/619', './result/620', './result/621', './result/622', './result/623', './result/624', './result/625', './result/626', './result/627', './result/628', './result/629', './result/630', './result/631', './result/632', './result/633', './result/634', './result/635', './result/636', './result/637', './result/638', './result/639', './result/640', './result/641', './result/642', './result/643', './result/644', './result/645', './result/646', './result/647', './result/648', './result/649', './result/650', './result/651', './result/652', './result/653', './result/654', './result/655', './result/656', './result/657', './result/658', './result/659', './result/660', './result/661', './result/662', './result/663', './result/664', './result/665', './result/666', './result/667', './result/668', './result/669', './result/670', './result/671', './result/672', './result/673', './result/674', './result/675', './result/676', './result/677', './result/678', './result/679', './result/680', './result/681', './result/682', './result/683', './result/684', './result/685', './result/686', './result/687', './result/688', './result/689', './result/690', './result/691', './result/692', './result/693', './result/694', './result/695', './result/696', './result/697', './result/698', './result/699', './result/700', './result/701', './result/702', './result/703', './result/704', './result/705', './result/706', './result/707', './result/708', './result/709', './result/710', './result/711', './result/712', './result/713', './result/714', './result/715', './result/716', './result/717', './result/718', './result/719', './result/720', './result/721', './result/722', './result/723', './result/724', './result/725', './result/726', './result/727', './result/728', './result/729', './result/730', './result/731', './result/732', './result/733', './result/734', './result/735', './result/736', './result/737', './result/738', './result/739', './result/740', './result/741', './result/742', './result/743', './result/744', './result/745', './result/746', './result/747', './result/748', './result/749', './result/750', './result/751', './result/752', './result/753', './result/754', './result/755', './result/756', './result/757', './result/758', './result/759', './result/760', './result/761', './result/762', './result/763', './result/764', './result/765', './result/766', './result/767', './result/768', './result/769', './result/770', './result/771', './result/772', './result/773', './result/774', './result/775', './result/776', './result/777', './result/778', './result/779', './result/780', './result/781', './result/782', './result/783', './result/784', './result/785', './result/786', './result/787', './result/788', './result/789', './result/790', './result/791', './result/792', './result/793', './result/794', './result/795', './result/796', './result/797', './result/798', './result/799', './result/800']\n"
     ]
    }
   ],
   "source": [
    "import numpy as np\n",
    "import matplotlib.pyplot as plt\n",
    "import os\n",
    "import imageio\n",
    "import glob\n",
    "from matplotlib.animation import FuncAnimation\n",
    "\n",
    "# 获取当前工作目录并设置结果文件夹路径\n",
    "result_dir = './result/'\n",
    "\n",
    "# 确保 result_dir 存在\n",
    "if not os.path.exists(result_dir):\n",
    "    print(f\"Error: {result_dir} does not exist.\")\n",
    "else:\n",
    "    # 获取所有子文件夹路径\n",
    "    subfolders = [os.path.join(result_dir, folder) for folder in os.listdir(result_dir)\n",
    "                  if os.path.isdir(os.path.join(result_dir, folder))]\n",
    "    \n",
    "    # 按照文件夹的数字顺序排序\n",
    "    subfolders.sort(key=lambda x: int(x.split('/')[-1]))  # 假设文件夹名是数字\n",
    "    \n",
    "    # 打印所有子文件夹路径\n",
    "    print(subfolders)"
   ]
  },
  {
   "cell_type": "code",
   "execution_count": 3,
   "metadata": {},
   "outputs": [],
   "source": [
    "# 初始化GIF保存列表\n",
    "gif_images = []\n",
    "\n",
    "# 定义间隔\n",
    "n = 20  # 每隔 n 个文件夹打印一张\n",
    "\n",
    "# 假设 subfolders 已经定义并包含子文件夹路径\n",
    "total_folders = len(subfolders)\n",
    "\n",
    "\n",
    "\n",
    "# 遍历子文件夹，按间隔打印图片\n",
    "for i in range(0, total_folders, n):  # 每隔 n 个文件夹处理一次\n",
    "    # 如果剩余文件夹不足 n，则直接处理最后一个文件夹\n",
    "    folder = subfolders[min(i, total_folders - 1)]\n",
    "    \n",
    "    # 获取当前文件夹下的 u.dat, v.dat, p.dat\n",
    "    u_file = os.path.join(folder, 'u.dat')\n",
    "    v_file = os.path.join(folder, 'v.dat')\n",
    "    p_file = os.path.join(folder, 'p.dat')\n",
    "\n",
    "    # 读取数据\n",
    "    u = np.loadtxt(u_file)\n",
    "    v = np.loadtxt(v_file)\n",
    "    p = np.loadtxt(p_file)\n",
    "\n",
    "    # 数据处理\n",
    "    u_trimmed = u\n",
    "    v_trimmed = v\n",
    "    p_trimmed = p  # 如果需要，进行数据切割\n",
    "\n",
    "    # 创建网格\n",
    "    n_trimmed = u_trimmed.shape[0]\n",
    "    x = np.arange(1, n_trimmed + 1)  # x 从 1 到 n\n",
    "    y = np.arange(1, n_trimmed + 1)  # y 从 1 到 n\n",
    "    X, Y = np.meshgrid(x, n_trimmed - y)\n",
    "\n",
    "    # 绘制选择的图形\n",
    "    plt.figure(figsize=(10, 10))  # 设置图形大小\n",
    "\n",
    " \n",
    "    # 绘制速度大小的等高线图\n",
    "    magnitude = np.sqrt(u_trimmed**2 + v_trimmed**2)\n",
    "    contour = plt.contourf(X, Y, magnitude, levels=50, cmap='viridis')\n",
    "    plt.colorbar(contour)\n",
    "    plt.title(f'Velocity Magnitude\\nTimestep = {i }', fontsize=16)\n",
    "\n",
    "\n",
    "    # 设置坐标轴标签\n",
    "    plt.xlabel('X')\n",
    "    plt.ylabel('Y')\n",
    "\n",
    "    # 保存图像到GIF\n",
    "    gif_image_path = f'frame_{i + 1}.png'\n",
    "    plt.savefig(gif_image_path)\n",
    "    gif_images.append(gif_image_path)\n",
    "\n",
    "    # 清空当前图形\n",
    "    plt.close()\n"
   ]
  },
  {
   "cell_type": "code",
   "execution_count": 4,
   "metadata": {},
   "outputs": [],
   "source": [
    "\n",
    "# 创建GIF动画\n",
    "with imageio.get_writer('simulation_animation.gif', mode='I', duration=0.25) as writer:\n",
    "    for gif_image in gif_images:\n",
    "        image = imageio.imread(gif_image)\n",
    "        writer.append_data(image)\n",
    "# 清理临时图片文件\n"
   ]
  },
  {
   "cell_type": "code",
   "execution_count": 5,
   "metadata": {},
   "outputs": [
    {
     "ename": "SyntaxError",
     "evalue": "unterminated string literal (detected at line 4) (1742515975.py, line 4)",
     "output_type": "error",
     "traceback": [
      "\u001b[0;36m  Cell \u001b[0;32mIn [5], line 4\u001b[0;36m\u001b[0m\n\u001b[0;31m    \"\"\"\"\u001b[0m\n\u001b[0m       ^\u001b[0m\n\u001b[0;31mSyntaxError\u001b[0m\u001b[0;31m:\u001b[0m unterminated string literal (detected at line 4)\n"
     ]
    }
   ],
   "source": [
    "\"\"\"\n",
    "for gif_image in gif_images:\n",
    "    os.remove(gif_image)\n",
    "\"\"\""
   ]
  },
  {
   "cell_type": "code",
   "execution_count": 7,
   "metadata": {},
   "outputs": [
    {
     "name": "stdout",
     "output_type": "stream",
     "text": [
      "Deleted: ./frame_1.png\n",
      "Deleted: ./frame_21.png\n",
      "Deleted: ./frame_41.png\n",
      "Deleted: ./frame_61.png\n",
      "Deleted: ./frame_81.png\n",
      "Deleted: ./frame_101.png\n",
      "Deleted: ./frame_121.png\n",
      "Deleted: ./frame_141.png\n",
      "Deleted: ./frame_161.png\n",
      "Deleted: ./frame_181.png\n",
      "Deleted: ./frame_201.png\n",
      "Deleted: ./frame_221.png\n",
      "Deleted: ./frame_241.png\n",
      "Deleted: ./frame_261.png\n",
      "Deleted: ./frame_281.png\n",
      "Deleted: ./frame_301.png\n",
      "Deleted: ./frame_321.png\n",
      "Deleted: ./frame_341.png\n",
      "Deleted: ./frame_361.png\n",
      "Deleted: ./frame_381.png\n",
      "Deleted: ./frame_401.png\n",
      "Deleted: ./frame_421.png\n",
      "Deleted: ./frame_441.png\n",
      "Deleted: ./frame_461.png\n",
      "Deleted: ./frame_481.png\n",
      "Deleted: ./frame_501.png\n",
      "Deleted: ./frame_521.png\n",
      "Deleted: ./frame_541.png\n",
      "Deleted: ./frame_561.png\n",
      "Deleted: ./frame_581.png\n",
      "Deleted: ./frame_601.png\n",
      "Deleted: ./frame_621.png\n",
      "Deleted: ./frame_641.png\n",
      "Deleted: ./frame_661.png\n",
      "Deleted: ./frame_681.png\n",
      "Deleted: ./frame_701.png\n",
      "Deleted: ./frame_721.png\n",
      "Deleted: ./frame_741.png\n",
      "Deleted: ./frame_761.png\n",
      "Deleted: ./frame_781.png\n",
      "Deleted: ./frame_801.png\n",
      "All .png files in the 'result' folder have been deleted.\n"
     ]
    }
   ],
   "source": [
    "\n",
    "# 定义目标文件夹\n",
    "folder_path = './'\n",
    "\n",
    "# 获取文件夹下所有的 .png 文件\n",
    "png_files = glob.glob(os.path.join(folder_path, '*.png'))\n",
    "\n",
    "# 遍历文件列表并删除每个文件\n",
    "for png_file in png_files:\n",
    "    try:\n",
    "        os.remove(png_file)\n",
    "        print(f\"Deleted: {png_file}\")\n",
    "    except Exception as e:\n",
    "        print(f\"Error deleting {png_file}: {e}\")\n",
    "\n",
    "print(\"All .png files in the 'result' folder have been deleted.\")\n"
   ]
  },
  {
   "cell_type": "code",
   "execution_count": null,
   "metadata": {},
   "outputs": [],
   "source": []
  }
 ],
 "metadata": {
  "kernelspec": {
   "display_name": "Python 3",
   "language": "python",
   "name": "python3"
  },
  "language_info": {
   "codemirror_mode": {
    "name": "ipython",
    "version": 3
   },
   "file_extension": ".py",
   "mimetype": "text/x-python",
   "name": "python",
   "nbconvert_exporter": "python",
   "pygments_lexer": "ipython3",
   "version": "3.11.2"
  }
 },
 "nbformat": 4,
 "nbformat_minor": 2
}
